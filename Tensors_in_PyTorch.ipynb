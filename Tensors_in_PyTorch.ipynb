{
  "nbformat": 4,
  "nbformat_minor": 0,
  "metadata": {
    "colab": {
      "provenance": [],
      "authorship_tag": "ABX9TyM9sgtOJjwlk2vMmKNKMqQb",
      "include_colab_link": true
    },
    "kernelspec": {
      "name": "python3",
      "display_name": "Python 3"
    },
    "language_info": {
      "name": "python"
    }
  },
  "cells": [
    {
      "cell_type": "markdown",
      "metadata": {
        "id": "view-in-github",
        "colab_type": "text"
      },
      "source": [
        "<a href=\"https://colab.research.google.com/github/AniketP04/PyTorch/blob/main/Tensors_in_PyTorch.ipynb\" target=\"_parent\"><img src=\"https://colab.research.google.com/assets/colab-badge.svg\" alt=\"Open In Colab\"/></a>"
      ]
    },
    {
      "cell_type": "code",
      "execution_count": 1,
      "metadata": {
        "id": "bqVGvS6hxmOw"
      },
      "outputs": [],
      "source": [
        "import torch"
      ]
    },
    {
      "cell_type": "code",
      "source": [
        "def activation(x):\n",
        "    \"\"\" Sigmoid activation function\n",
        "\n",
        "        Arguments\n",
        "        ---------\n",
        "        x: torch.Tensor\n",
        "    \"\"\"\n",
        "    return 1/(1+torch.exp(-x))"
      ],
      "metadata": {
        "id": "QALbEWOQ0sXb"
      },
      "execution_count": 2,
      "outputs": []
    },
    {
      "cell_type": "markdown",
      "source": [
        "**Features are 5 random normal variables**\n",
        "\n",
        "Creates a tensor with shape `(1, 5)`, one row and five columns, that contains values randomly distributed according to the normal distribution with a mean of zero and standard deviation of one."
      ],
      "metadata": {
        "id": "rJaKrdRWy9gi"
      }
    },
    {
      "cell_type": "code",
      "source": [
        "features = torch.randn((1, 5))\n",
        "features"
      ],
      "metadata": {
        "colab": {
          "base_uri": "https://localhost:8080/"
        },
        "id": "4OJwDLPcx4r4",
        "outputId": "eafa9c38-aa3d-4c05-fa16-209c6aa5b2cd"
      },
      "execution_count": 3,
      "outputs": [
        {
          "output_type": "execute_result",
          "data": {
            "text/plain": [
              "tensor([[-0.5588,  2.4006,  1.1751, -0.7883, -1.9529]])"
            ]
          },
          "metadata": {},
          "execution_count": 3
        }
      ]
    },
    {
      "cell_type": "markdown",
      "source": [
        "**True weights for our data, random normal variables again**\n",
        "\n",
        "Creates another tensor with the same shape as features, again containing values from a normal distribution."
      ],
      "metadata": {
        "id": "GktWCGgmz1tx"
      }
    },
    {
      "cell_type": "code",
      "source": [
        "weights = torch.randn_like(features)\n",
        "weights"
      ],
      "metadata": {
        "colab": {
          "base_uri": "https://localhost:8080/"
        },
        "id": "1OWFJBRKzlcQ",
        "outputId": "edfa15c3-9a65-403a-9042-a022b123a032"
      },
      "execution_count": 4,
      "outputs": [
        {
          "output_type": "execute_result",
          "data": {
            "text/plain": [
              "tensor([[-0.8316,  0.6734, -0.6952, -0.7985,  0.4397]])"
            ]
          },
          "metadata": {},
          "execution_count": 4
        }
      ]
    },
    {
      "cell_type": "markdown",
      "source": [
        "**A true bias term**\n",
        "\n",
        "Creates a single value from a normal distribution."
      ],
      "metadata": {
        "id": "l_ZUk3xj0SoP"
      }
    },
    {
      "cell_type": "code",
      "source": [
        "bias = torch.randn((1, 1))\n",
        "bias"
      ],
      "metadata": {
        "colab": {
          "base_uri": "https://localhost:8080/"
        },
        "id": "SC6jj4RCz8i8",
        "outputId": "685af458-09ab-4060-ed42-f7543f767167"
      },
      "execution_count": 5,
      "outputs": [
        {
          "output_type": "execute_result",
          "data": {
            "text/plain": [
              "tensor([[-0.1733]])"
            ]
          },
          "metadata": {},
          "execution_count": 5
        }
      ]
    },
    {
      "cell_type": "markdown",
      "source": [
        "**Activation function**"
      ],
      "metadata": {
        "id": "Q8IKMygg0WcH"
      }
    },
    {
      "cell_type": "code",
      "source": [
        "y = activation(torch.sum(features * weights) + bias)\n",
        "y"
      ],
      "metadata": {
        "colab": {
          "base_uri": "https://localhost:8080/"
        },
        "id": "kAUD39eN0VZy",
        "outputId": "69fb7922-4727-477b-c40a-c4201bdcc413"
      },
      "execution_count": 6,
      "outputs": [
        {
          "output_type": "execute_result",
          "data": {
            "text/plain": [
              "tensor([[0.7030]])"
            ]
          },
          "metadata": {},
          "execution_count": 6
        }
      ]
    },
    {
      "cell_type": "markdown",
      "source": [
        "A matrix multiplication of the features and the weights `torch.mm()` or `torch.matmul()`. Remember that for matrix multiplications, the number of columns in the first tensor must equal to the number of rows in the second column."
      ],
      "metadata": {
        "id": "LG8nWRqn1P_d"
      }
    },
    {
      "cell_type": "markdown",
      "source": [
        "To see the shape of a tensor called tensor, use `tensor.shape`"
      ],
      "metadata": {
        "id": "IDdf8He71gF5"
      }
    },
    {
      "cell_type": "markdown",
      "source": [
        "`weights.reshape(a, b)`: will return a new tensor with the same data as weights with size `(a, b)` sometimes, and sometimes a clone, as in it copies the data to another part of memory.\n",
        "\n",
        "`weights.resize_(a, b)`: returns the same tensor with a different shape. However, if the new shape results in fewer elements than the original tensor, some elements will be removed from the tensor (but not from memory). If the new shape results in more elements than the original tensor, new elements will be uninitialized in memory\n",
        "\n",
        "`weights.view(a, b)`: will return a new tensor with the same data as weights with size `(a, b)`."
      ],
      "metadata": {
        "id": "6p-p8xU91pRw"
      }
    },
    {
      "cell_type": "code",
      "source": [
        "y = activation(torch.mm(features, weights.view(5,1)) + bias)\n",
        "y"
      ],
      "metadata": {
        "colab": {
          "base_uri": "https://localhost:8080/"
        },
        "id": "dnOLIv9g3pV0",
        "outputId": "02e021d3-f0d6-4c85-f3f4-b22554407a78"
      },
      "execution_count": 7,
      "outputs": [
        {
          "output_type": "execute_result",
          "data": {
            "text/plain": [
              "tensor([[0.7030]])"
            ]
          },
          "metadata": {},
          "execution_count": 7
        }
      ]
    },
    {
      "cell_type": "markdown",
      "source": [
        "###Numpy to Torch and back"
      ],
      "metadata": {
        "id": "QyB_LuvM1pyK"
      }
    },
    {
      "cell_type": "markdown",
      "source": [
        "To create a tensor from a Numpy array, use `torch.from_numpy()`. To convert a tensor to a Numpy array, use the `.numpy()` method."
      ],
      "metadata": {
        "id": "IxBhDg1O33yE"
      }
    },
    {
      "cell_type": "code",
      "source": [
        "import numpy as np\n",
        "\n",
        "a= np.random.rand(4,3)\n",
        "a"
      ],
      "metadata": {
        "colab": {
          "base_uri": "https://localhost:8080/"
        },
        "id": "W9RtVlHu0ey6",
        "outputId": "b9c06071-dfb5-4690-ea47-462900f2b0d0"
      },
      "execution_count": 8,
      "outputs": [
        {
          "output_type": "execute_result",
          "data": {
            "text/plain": [
              "array([[0.03147877, 0.46657798, 0.75892186],\n",
              "       [0.31670173, 0.0236164 , 0.48573843],\n",
              "       [0.14968776, 0.1620584 , 0.63982608],\n",
              "       [0.29173545, 0.49258585, 0.72930337]])"
            ]
          },
          "metadata": {},
          "execution_count": 8
        }
      ]
    },
    {
      "cell_type": "code",
      "source": [
        "b= torch.from_numpy(a)\n",
        "b"
      ],
      "metadata": {
        "colab": {
          "base_uri": "https://localhost:8080/"
        },
        "id": "Pe6ozxDp2K4a",
        "outputId": "c545f114-eb2f-4d1f-b237-06c2e6edf029"
      },
      "execution_count": 9,
      "outputs": [
        {
          "output_type": "execute_result",
          "data": {
            "text/plain": [
              "tensor([[0.0315, 0.4666, 0.7589],\n",
              "        [0.3167, 0.0236, 0.4857],\n",
              "        [0.1497, 0.1621, 0.6398],\n",
              "        [0.2917, 0.4926, 0.7293]], dtype=torch.float64)"
            ]
          },
          "metadata": {},
          "execution_count": 9
        }
      ]
    },
    {
      "cell_type": "code",
      "source": [
        "b.numpy()"
      ],
      "metadata": {
        "colab": {
          "base_uri": "https://localhost:8080/"
        },
        "id": "gecmMfZ02Tsc",
        "outputId": "265373e4-ce65-42b5-9ba8-009b54ba3e08"
      },
      "execution_count": 10,
      "outputs": [
        {
          "output_type": "execute_result",
          "data": {
            "text/plain": [
              "array([[0.03147877, 0.46657798, 0.75892186],\n",
              "       [0.31670173, 0.0236164 , 0.48573843],\n",
              "       [0.14968776, 0.1620584 , 0.63982608],\n",
              "       [0.29173545, 0.49258585, 0.72930337]])"
            ]
          },
          "metadata": {},
          "execution_count": 10
        }
      ]
    },
    {
      "cell_type": "code",
      "source": [
        "b.mul_(2)"
      ],
      "metadata": {
        "colab": {
          "base_uri": "https://localhost:8080/"
        },
        "id": "CorCY_Bg2WCW",
        "outputId": "10da9651-efc3-47fa-b06f-db733961e483"
      },
      "execution_count": 11,
      "outputs": [
        {
          "output_type": "execute_result",
          "data": {
            "text/plain": [
              "tensor([[0.0630, 0.9332, 1.5178],\n",
              "        [0.6334, 0.0472, 0.9715],\n",
              "        [0.2994, 0.3241, 1.2797],\n",
              "        [0.5835, 0.9852, 1.4586]], dtype=torch.float64)"
            ]
          },
          "metadata": {},
          "execution_count": 11
        }
      ]
    }
  ]
}