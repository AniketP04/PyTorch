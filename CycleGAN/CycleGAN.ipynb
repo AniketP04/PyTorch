{
  "nbformat": 4,
  "nbformat_minor": 0,
  "metadata": {
    "colab": {
      "provenance": []
    },
    "kernelspec": {
      "name": "python3",
      "display_name": "Python 3"
    },
    "language_info": {
      "name": "python"
    }
  },
  "cells": [
    {
      "cell_type": "markdown",
      "source": [
        "#**CycleGAN**"
      ],
      "metadata": {
        "id": "hUJjLT9lPVuV"
      }
    },
    {
      "cell_type": "code",
      "source": [
        "import torch.nn as nn\n",
        "import torch.nn.functional as F"
      ],
      "metadata": {
        "id": "CAHoEayX0MNQ"
      },
      "execution_count": 1,
      "outputs": []
    },
    {
      "cell_type": "markdown",
      "source": [
        "`in_features` (int): number of input features in the first convolution"
      ],
      "metadata": {
        "id": "KuHXYPF0Pl1e"
      }
    },
    {
      "cell_type": "code",
      "source": [
        "class Residual_block(nn.Module):\n",
        "  def __init__(self, in_features):\n",
        "    super(Residual_block,self).__init__()\n",
        "\n",
        "    resi_block = [  nn.ReflectionPad2d(1),\n",
        "                        nn.Conv2d(in_features, in_features, 3),\n",
        "                        nn.InstanceNorm2d(in_features),\n",
        "                        nn.ReLU(inplace=True),\n",
        "                        nn.ReflectionPad2d(1),\n",
        "                        nn.Conv2d(in_features, in_features, 3),\n",
        "                        nn.InstanceNorm2d(in_features)  ]\n",
        "\n",
        "    self.resi_block= nn.Sequential(*resi_block)\n",
        "\n",
        "\n",
        "  def forward(self, x):\n",
        "    return self.resi_block(x)\n",
        "\n"
      ],
      "metadata": {
        "id": "9heg5UNCkEeD"
      },
      "execution_count": 2,
      "outputs": []
    },
    {
      "cell_type": "markdown",
      "source": [
        "`in_feature` (int): number of input features in the first convolution\n",
        "\n",
        "`out_feature` (int): number of output features"
      ],
      "metadata": {
        "id": "apig3I2LQcGW"
      }
    },
    {
      "cell_type": "code",
      "source": [
        "class Conv_block(nn.Module):\n",
        "  def __init__(self,in_feature, out_feature):\n",
        "    super(Conv_block,self).__init__()\n",
        "\n",
        "    conv_block= [ nn.Conv2d(in_feature, out_feature,kernel_size=3, stride=2, padding=1),\n",
        "                            nn.InstanceNorm2d(out_feature),\n",
        "                            nn.ReLU(inplace=True)   ]\n",
        "\n",
        "    self.conv_block= nn.Sequential(*conv_block)\n",
        "\n",
        "\n",
        "  def forward(self, x):\n",
        "    return self.conv_block(x)\n"
      ],
      "metadata": {
        "id": "MtNbe6RamXi0"
      },
      "execution_count": 3,
      "outputs": []
    },
    {
      "cell_type": "markdown",
      "source": [
        "`in_feature` (int): number of input features in the first convolution\n",
        "\n",
        "`out_feature` (int): number of output features"
      ],
      "metadata": {
        "id": "3L8GKS6fQtdm"
      }
    },
    {
      "cell_type": "code",
      "source": [
        "class Deconv_block(nn.Module):\n",
        "  def __init__(self,in_feature, out_feature):\n",
        "    super(Deconv_block,self).__init__()\n",
        "\n",
        "    deconv_block= [ nn.ConvTranspose2d(in_feature, out_feature,kernel_size=3, stride=2, padding=1),\n",
        "                            nn.InstanceNorm2d(out_feature),\n",
        "                            nn.ReLU(inplace=True)   ]\n",
        "\n",
        "    self.deconv_block= nn.Sequential(*deconv_block)\n",
        "\n",
        "\n",
        "  def forward(self, x):\n",
        "    return self.deconv_block(x)\n"
      ],
      "metadata": {
        "id": "zio902DbryT3"
      },
      "execution_count": 4,
      "outputs": []
    },
    {
      "cell_type": "markdown",
      "source": [
        "`in_feature` (int): number of input features in the first convolution\n",
        "\n",
        "`num_filter` (int): number of output features at level\n",
        "\n",
        "`out_feature` (int): number of output features"
      ],
      "metadata": {
        "id": "az_KlpZYQvb9"
      }
    },
    {
      "cell_type": "code",
      "source": [
        "class Generator(nn.Module):\n",
        "  def __init__(self,in_feature,num_filter, out_feature, residual_block= 3):\n",
        "    super(Generator, self).__init__()\n",
        "\n",
        "    self.pad = nn.ReflectionPad2d(3)\n",
        "\n",
        "    self.conv1= Conv_block(in_feature, num_filter, kernel_size=7, stride=1, padding=0)\n",
        "    self.conv2= Conv_block(num_filter, num_filter * 2)\n",
        "    self.conv3= Conv_block(num_filter * 2, num_filter * 4)\n",
        "\n",
        "\n",
        "    self.resi_block= []\n",
        "    for i in range(residual_block):\n",
        "      self.resi_block.append(Residual_block(num_filter * 4))\n",
        "\n",
        "    self.resi_block= nn.Sequential(*self.resi_block)\n",
        "\n",
        "    self.deconv1= Deconv_block(num_filter * 4, num_filter * 2)\n",
        "    self.deconv2= Deconv_block(num_filter * 2, num_filter)\n",
        "    self.deconv3= Deconv_block(num_filter, out_feature, kernel_size=7, stride=1, padding=0)\n",
        "\n",
        "\n",
        "  def forward(self,x):\n",
        "    en1= self.conv1(self.pad(x))\n",
        "    en2= self.conv2(en1)\n",
        "    en3= self.conv3(en2)\n",
        "\n",
        "    res= self.resi_block(en3)\n",
        "\n",
        "    de1= self.deconv1(res)\n",
        "    de2= self.deconv2(de1)\n",
        "    out= self.deconv3(de2)\n",
        "\n",
        "    return out\n",
        "\n",
        "\n"
      ],
      "metadata": {
        "id": "diWQPWhFsmqT"
      },
      "execution_count": 5,
      "outputs": []
    },
    {
      "cell_type": "markdown",
      "source": [
        "`in_feature` (int): number of input features in the first convolution\n",
        "\n",
        "`num_filter` (int): number of output features at level\n",
        "\n",
        "`out_feature` (int): number of output features"
      ],
      "metadata": {
        "id": "qUQpHjFmRFaZ"
      }
    },
    {
      "cell_type": "code",
      "source": [
        "class Discriminator(nn.Module):\n",
        "  def __init__(self,in_feature, num_filters, out_features):\n",
        "    super(Discriminator, self).__init__()\n",
        "\n",
        "    self.conv1= Conv_block(in_feature, num_filters, kernel_size=4, stride=2, padding=1)\n",
        "    self.conv2= Conv_block(num_filters, num_filters * 2,kernel_size=4, stride=2, padding=1)\n",
        "    self.conv3= Conv_block(num_filters * 2, num_filters * 4,kernel_size=4, stride=2, padding=1)\n",
        "    self.conv4= Conv_block(num_filters * 4, num_filters * 8,kernel_size=4, stride=2, padding=1)\n",
        "\n",
        "    self.conv5= nn.Conv2d(num_filters * 8, out_features,kernel_size=4, stride=2, padding=1)\n",
        "\n",
        "  def forward(self,x):\n",
        "\n",
        "    l1= F.leaky_relu(self.conv1(x), 0.2)\n",
        "    l2= F.leaky_relu(self.conv2(l1), 0.2)\n",
        "    l3= F.leaky_relu(self.conv3(l2), 0.2)\n",
        "    l4= F.leaky_relu(self.conv4(l3), 0.2)\n",
        "    l5= self.conv5(l4)\n",
        "\n",
        "    return l5\n"
      ],
      "metadata": {
        "id": "mTnNrmAJJk38"
      },
      "execution_count": 6,
      "outputs": []
    },
    {
      "cell_type": "code",
      "source": [],
      "metadata": {
        "id": "b5VU2zMqLsz5"
      },
      "execution_count": 6,
      "outputs": []
    }
  ]
}